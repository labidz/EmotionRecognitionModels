{
  "metadata": {
    "kernelspec": {
      "language": "python",
      "display_name": "Python 3",
      "name": "python3"
    },
    "language_info": {
      "name": "python",
      "version": "3.7.12",
      "mimetype": "text/x-python",
      "codemirror_mode": {
        "name": "ipython",
        "version": 3
      },
      "pygments_lexer": "ipython3",
      "nbconvert_exporter": "python",
      "file_extension": ".py"
    },
    "colab": {
      "provenance": []
    },
    "accelerator": "GPU",
    "gpuClass": "standard"
  },
  "nbformat_minor": 0,
  "nbformat": 4,
  "cells": [
    {
      "cell_type": "code",
      "source": [
        "import matplotlib.pyplot as plt\n",
        "import numpy as np\n",
        "import pandas as pd\n",
        "import seaborn as sns\n",
        "import os\n",
        "\n",
        "from tensorflow.keras.preprocessing.image import load_img\n",
        "from keras.preprocessing.image import ImageDataGenerator\n",
        "from keras.layers import Dense, Input, Dropout, GlobalAveragePooling2D, Flatten, Conv2D, BatchNormalization, Activation, MaxPooling2D\n",
        "from keras.models import Model, Sequential\n",
        "from tensorflow.keras.optimizers import Adam, SGD, RMSprop\n",
        "import tensorflow as tf\n",
        "\n",
        "\n",
        "!pip install -U -q PyDrive\n",
        "from pydrive.auth import GoogleAuth\n",
        "from pydrive.drive import GoogleDrive\n",
        "from google.colab import auth\n",
        "from oauth2client.client import GoogleCredentials\n",
        "auth.authenticate_user()\n",
        "gauth = GoogleAuth()\n",
        "gauth.credentials = GoogleCredentials.get_application_default()\n",
        "drive = GoogleDrive(gauth)\n",
        "fid = drive.ListFile({'q':\"title='facemo.zip'\"}).GetList()[0]['id']\n",
        "f = drive.CreateFile({'id': fid})\n",
        "f.GetContentFile('facemo.zip')\n",
        "f.keys()\n",
        "!unzip facemo.zip"
      ],
      "metadata": {
        "_uuid": "8f2839f25d086af736a60e9eeb907d3b93b6e0e5",
        "_cell_guid": "b1076dfc-b9ad-4769-8c92-a6c4dae69d19",
        "execution": {
          "iopub.status.busy": "2023-04-28T09:23:24.518436Z",
          "iopub.execute_input": "2023-04-28T09:23:24.518953Z",
          "iopub.status.idle": "2023-04-28T09:23:33.301168Z",
          "shell.execute_reply.started": "2023-04-28T09:23:24.518862Z",
          "shell.execute_reply": "2023-04-28T09:23:33.299605Z"
        },
        "trusted": true,
        "id": "lU02e_0eN-qT"
      },
      "execution_count": null,
      "outputs": []
    },
    {
      "cell_type": "code",
      "source": [
        "gpus = tf.config.list_logical_devices('GPU') \n",
        "stg=tf.distribute.MirroredStrategy(gpus)"
      ],
      "metadata": {
        "execution": {
          "iopub.status.busy": "2023-04-28T09:23:33.303532Z",
          "iopub.execute_input": "2023-04-28T09:23:33.304176Z",
          "iopub.status.idle": "2023-04-28T09:23:33.350508Z",
          "shell.execute_reply.started": "2023-04-28T09:23:33.304136Z",
          "shell.execute_reply": "2023-04-28T09:23:33.349498Z"
        },
        "trusted": true,
        "id": "Jf64bf14N-qX"
      },
      "execution_count": 2,
      "outputs": []
    },
    {
      "cell_type": "code",
      "source": [
        "folder_path = \"/content/facemo/images/\" \n",
        "# folder_path = \"../input/face-expression-recognition-dataset/images/\"\n",
        "# validation_folder_path = \"../input/face-expression-recognition-dataset/images/\""
      ],
      "metadata": {
        "execution": {
          "iopub.status.busy": "2023-04-28T09:23:33.354983Z",
          "iopub.execute_input": "2023-04-28T09:23:33.355374Z",
          "iopub.status.idle": "2023-04-28T09:23:33.361639Z",
          "shell.execute_reply.started": "2023-04-28T09:23:33.355339Z",
          "shell.execute_reply": "2023-04-28T09:23:33.360128Z"
        },
        "trusted": true,
        "id": "MRIMlN6UN-qY"
      },
      "execution_count": 3,
      "outputs": []
    },
    {
      "cell_type": "code",
      "source": [
        "import cv2\n",
        "import os\n",
        "from tqdm import tqdm\n",
        "\n",
        "folder_dir = '/content/facemo/images/train'\n",
        "SIZE = (48,48) \n",
        "DOWNSAMPLE_RATIO = 4\n",
        "JPEG_QUALITY = 80\n",
        "\n",
        "# get the total number of files to process\n",
        "total_files = sum(len(files) for _, _, files in os.walk(folder_dir))\n",
        "\n",
        "# use tqdm to display a progress bar\n",
        "with tqdm(total=total_files, desc=\"Processing Images\") as pbar:\n",
        "    for folder in os.listdir(folder_dir):\n",
        "        for file in os.listdir(os.path.join(folder_dir, folder)):\n",
        "            if file.endswith(\"jpg\"):\n",
        "                image_path = os.path.join(folder_dir, folder, file)\n",
        "                img = cv2.imread(image_path)\n",
        "                img_resized = cv2.resize(img, (SIZE))\n",
        "                cv2.imwrite(image_path, img_resized)\n",
        "                pbar.update(1) # increment the progress bar\n",
        "            else:\n",
        "                continue\n"
      ],
      "metadata": {
        "execution": {
          "iopub.status.busy": "2023-04-28T09:23:33.364823Z",
          "iopub.execute_input": "2023-04-28T09:23:33.365322Z",
          "iopub.status.idle": "2023-04-28T09:23:57.279118Z",
          "shell.execute_reply.started": "2023-04-28T09:23:33.365254Z",
          "shell.execute_reply": "2023-04-28T09:23:57.277967Z"
        },
        "trusted": true,
        "colab": {
          "base_uri": "https://localhost:8080/"
        },
        "id": "An2tXbhyN-qY",
        "outputId": "1ebc2d7d-368d-433e-b4e7-6dc59d8e405c"
      },
      "execution_count": 4,
      "outputs": [
        {
          "output_type": "stream",
          "name": "stderr",
          "text": [
            "Processing Images:  100%|██████████| 2827/2827 [00:01<00:00, 1513.55it/s]\n"
          ]
        }
      ]
    },
    {
      "cell_type": "code",
      "source": [
        "'''\n",
        "expression = 'happy'\n",
        "plt.style.use('dark_background')\n",
        "plt.figure(figsize=(12, 12))\n",
        "for i in range(1, 10):\n",
        "    plt.subplot(3, 3, i)\n",
        "    img = load_img(folder_path + \"train/\" + expression + \"/\" + os.listdir(folder_path + \"train/\" + expression)[i], target_size=SIZE)\n",
        "    plt.imshow(img)  \n",
        "plt.show()\n",
        "'''"
      ],
      "metadata": {
        "_kg_hide-output": true,
        "execution": {
          "iopub.status.busy": "2023-04-28T09:23:57.280504Z",
          "iopub.execute_input": "2023-04-28T09:23:57.280986Z",
          "iopub.status.idle": "2023-04-28T09:23:57.290975Z",
          "shell.execute_reply.started": "2023-04-28T09:23:57.280939Z",
          "shell.execute_reply": "2023-04-28T09:23:57.289850Z"
        },
        "trusted": true,
        "id": "vB9FpCDeN-qZ",
        "outputId": "7127dc8f-149f-484a-8f2a-4488053607d3"
      },
      "execution_count": null,
      "outputs": [
        {
          "execution_count": 5,
          "output_type": "execute_result",
          "data": {
            "text/plain": "'\\nexpression = \\'happy\\'\\nplt.style.use(\\'dark_background\\')\\nplt.figure(figsize=(12, 12))\\nfor i in range(1, 10):\\n    plt.subplot(3, 3, i)\\n    img = load_img(folder_path + \"train/\" + expression + \"/\" + os.listdir(folder_path + \"train/\" + expression)[i], target_size=SIZE)\\n    plt.imshow(img)  \\nplt.show()\\n'"
          },
          "metadata": {}
        }
      ]
    },
    {
      "cell_type": "code",
      "source": [
        "batch_size = 32\n",
        "picture_size = SIZE\n",
        "datagen_train = ImageDataGenerator(rotation_range=.5, \n",
        "                                    width_shift_range=0.2, \n",
        "                                    height_shift_range=0.2, \n",
        "                                    zoom_range=0.2, \n",
        "                                    preprocessing_function=tf.keras.applications.mobilenet_v2.preprocess_input \n",
        "                                )\n",
        "\n",
        "datagen_val = ImageDataGenerator(preprocessing_function=tf.keras.applications.mobilenet_v2.preprocess_input )\n",
        "\n",
        "train_datagen = ImageDataGenerator(rescale=1./255,\n",
        "                                    rotation_range=.5,\n",
        "                                    width_shift_range=0.2,\n",
        "                                    height_shift_range=0.2,\n",
        "                                    zoom_range=0.2,\n",
        "                                    fill_mode='nearest')\n",
        "\n",
        "test_datagen = ImageDataGenerator(rescale=1./255)"
      ],
      "metadata": {
        "execution": {
          "iopub.status.busy": "2023-04-28T09:23:57.292595Z",
          "iopub.execute_input": "2023-04-28T09:23:57.292943Z",
          "iopub.status.idle": "2023-04-28T09:23:57.308203Z",
          "shell.execute_reply.started": "2023-04-28T09:23:57.292912Z",
          "shell.execute_reply": "2023-04-28T09:23:57.306537Z"
        },
        "trusted": true,
        "id": "XYFG9EesN-qa"
      },
      "execution_count": 5,
      "outputs": []
    },
    {
      "cell_type": "code",
      "source": [
        "train_generator = train_datagen.flow_from_directory(folder_path + 'train',\n",
        "                                                    target_size=(picture_size),\n",
        "                                                    batch_size=batch_size,\n",
        "                                                    class_mode='categorical')\n",
        "\n",
        "validation_set = test_datagen.flow_from_directory(folder_path + 'validation',\n",
        "                                                        target_size=(picture_size),\n",
        "                                                        batch_size=batch_size,\n",
        "                                                        class_mode='categorical')"
      ],
      "metadata": {
        "execution": {
          "iopub.status.busy": "2023-04-28T09:23:57.309237Z",
          "iopub.execute_input": "2023-04-28T09:23:57.309624Z",
          "iopub.status.idle": "2023-04-28T09:23:57.792544Z",
          "shell.execute_reply.started": "2023-04-28T09:23:57.309593Z",
          "shell.execute_reply": "2023-04-28T09:23:57.791270Z"
        },
        "trusted": true,
        "colab": {
          "base_uri": "https://localhost:8080/"
        },
        "id": "WxNb7GsCN-qb",
        "outputId": "e9196cf0-30b4-447e-9636-e56aca1bd3b9"
      },
      "execution_count": 6,
      "outputs": [
        {
          "output_type": "stream",
          "name": "stdout",
          "text": [
            "Found 2827 images belonging to 5 classes.\n",
            "Found 797 images belonging to 5 classes.\n"
          ]
        }
      ]
    },
    {
      "cell_type": "code",
      "source": [
        "\n",
        "from tensorflow.keras.optimizers import Adam,SGD,RMSprop\n",
        "from tensorflow.keras.optimizers import RMSprop,SGD,Adam\n",
        "from tensorflow.keras.callbacks import ModelCheckpoint, EarlyStopping, ReduceLROnPlateau\n",
        "\n",
        "\n",
        "no_of_classes = 5\n",
        "\n",
        "with stg.scope():\n",
        "    base_model = tf.keras.applications.DenseNet121(weights='imagenet',\n",
        "                                                  input_shape=(48, 48, 3),\n",
        "                                                  include_top=False) \n",
        "    for layer in base_model.layers:\n",
        "        layer.trainable = False\n",
        "\n",
        "    model = Sequential()\n",
        "    model.add(base_model)\n",
        "    model.add(GlobalAveragePooling2D())\n",
        "    model.add(Dense(512, activation='relu'))\n",
        "    model.add(Dense(128, activation='relu'))\n",
        "    model.add(Dropout(0.1))\n",
        "    model.add(Dense(no_of_classes, activation='softmax'))\n",
        "\n",
        "    model.compile(\n",
        "        loss='categorical_crossentropy',\n",
        "        optimizer=Adam(lr=0.001),\n",
        "        metrics=['accuracy'])\n",
        "\n",
        "model.summary()"
      ],
      "metadata": {
        "execution": {
          "iopub.status.busy": "2023-04-28T09:24:40.193314Z",
          "iopub.execute_input": "2023-04-28T09:24:40.193761Z",
          "iopub.status.idle": "2023-04-28T09:24:48.262221Z",
          "shell.execute_reply.started": "2023-04-28T09:24:40.193729Z",
          "shell.execute_reply": "2023-04-28T09:24:48.260947Z"
        },
        "trusted": true,
        "colab": {
          "base_uri": "https://localhost:8080/"
        },
        "id": "wwbS3e5xN-qb",
        "outputId": "b115354f-a990-4562-aac1-4f62b52967bb"
      },
      "execution_count": 15,
      "outputs": [
        {
          "output_type": "stream",
          "name": "stderr",
          "text": [
            "WARNING:absl:`lr` is deprecated in Keras optimizer, please use `learning_rate` or use the legacy optimizer, e.g.,tf.keras.optimizers.legacy.Adam.\n"
          ]
        },
        {
          "output_type": "stream",
          "name": "stdout",
          "text": [
            "Model: \"sequential_2\"\n",
            "_________________________________________________________________\n",
            " Layer (type)                Output Shape              Param #   \n",
            "=================================================================\n",
            " densenet121 (Functional)    (None, 1, 1, 1024)        7037504   \n",
            "                                                                 \n",
            " global_average_pooling2d_2   (None, 1024)             0         \n",
            " (GlobalAveragePooling2D)                                        \n",
            "                                                                 \n",
            " dense_6 (Dense)             (None, 512)               524800    \n",
            "                                                                 \n",
            " dense_7 (Dense)             (None, 128)               65664     \n",
            "                                                                 \n",
            " dropout_2 (Dropout)         (None, 128)               0         \n",
            "                                                                 \n",
            " dense_8  (Dense)             (None, 5)                 645       \n",
            "                                                                 \n",
            "=================================================================\n",
            "Total params: 7,628,613\n",
            "Trainable params: 591,109\n",
            "Non-trainable params: 7,037,504\n",
            "_________________________________________________________________\n"
          ]
        }
      ]
    },
    {
      "cell_type": "code",
      "source": [
        "early_stopping = EarlyStopping(monitor='val_loss',\n",
        "                                patience=3,\n",
        "                                verbose=1,\n",
        "                                restore_best_weights=True)\n",
        "\n",
        "lr_scheduler = ReduceLROnPlateau(monitor='val_loss',\n",
        "                                 factor=0.1,\n",
        "                                 patience=2,\n",
        "                                 verbose=1)\n",
        "\n",
        "callbacks = [early_stopping, lr_scheduler]\n"
      ],
      "metadata": {
        "execution": {
          "iopub.status.busy": "2023-04-28T09:24:50.807743Z",
          "iopub.execute_input": "2023-04-28T09:24:50.808573Z",
          "iopub.status.idle": "2023-04-28T09:24:50.815591Z",
          "shell.execute_reply.started": "2023-04-28T09:24:50.808514Z",
          "shell.execute_reply": "2023-04-28T09:24:50.814542Z"
        },
        "trusted": true,
        "id": "YEDYd-nIN-qc"
      },
      "execution_count": 16,
      "outputs": []
    },
    {
      "cell_type": "code",
      "source": [
        "history = model.fit(train_generator,\n",
        "                    steps_per_epoch=train_generator.n // batch_size,\n",
        "                    epochs=20,\n",
        "                    validation_data=validation_set,\n",
        "                    validation_steps=validation_set.n // batch_size,\n",
        "                    callbacks=callbacks)"
      ],
      "metadata": {
        "trusted": true,
        "colab": {
          "base_uri": "https://localhost:8080/"
        },
        "id": "KIULoyrPN-qc",
        "outputId": "2cbae7a4-bc84-400d-bc64-eac796376528"
      },
      "execution_count": 17,
      "outputs": [
        {
          "output_type": "stream",
          "name": "stdout",
          "text": [
            "Epoch 1/20\n",
            "88/88 [==============================] - 18s 100ms/step - loss: 1.0983 - accuracy: 0.5678 - val_loss: 0.6490 - val_accuracy: 0.8294 - lr: 0.0010\n",
            "Epoch 2/20\n",
            "88/88 [==============================] - 7s 78ms/step - loss: 0.6750 - accuracy: 0.7560 - val_loss: 0.7224 - val_accuracy: 0.7474 - lr: 0.0010\n",
            "Epoch 3/20\n",
            "88/88 [==============================] - 5s 61ms/step - loss: 0.4846 - accuracy: 0.8225 - val_loss: 0.4276 - val_accuracy: 0.8542 - lr: 0.0010\n",
            "Epoch 4/20\n",
            "88/88 [==============================] - 6s 64ms/step - loss: 0.4193 - accuracy: 0.8440 - val_loss: 0.3950 - val_accuracy: 0.8815 - lr: 0.0010\n",
            "Epoch 5/20\n",
            "88/88 [==============================] - 6s 71ms/step - loss: 0.3496 - accuracy: 0.8676 - val_loss: 0.2322 - val_accuracy: 0.9336 - lr: 0.0010\n",
            "Epoch 6/20\n",
            "88/88 [==============================] - 5s 55ms/step - loss: 0.2810 - accuracy: 0.8980 - val_loss: 0.2571 - val_accuracy: 0.9049 - lr: 0.0010\n",
            "Epoch 7/20\n",
            "88/88 [==============================] - 6s 72ms/step - loss: 0.2633 - accuracy: 0.9020 - val_loss: 0.2288 - val_accuracy: 0.9349 - lr: 0.0010\n",
            "Epoch 8/20\n",
            "88/88 [==============================] - 6s 72ms/step - loss: 0.3021 - accuracy: 0.8902 - val_loss: 0.1830 - val_accuracy: 0.9310 - lr: 0.0010\n",
            "Epoch 9/20\n",
            "88/88 [==============================] - 5s 57ms/step - loss: 0.2285 - accuracy: 0.9202 - val_loss: 0.3783 - val_accuracy: 0.8529 - lr: 0.0010\n",
            "Epoch 10/20\n",
            "88/88 [==============================] - 6s 63ms/step - loss: 0.2065 - accuracy: 0.9234 - val_loss: 0.1789 - val_accuracy: 0.9049 - lr: 0.0010\n",
            "Epoch 11/20\n",
            "88/88 [==============================] - 6s 69ms/step - loss: 0.2238 - accuracy: 0.9202 - val_loss: 0.1466 - val_accuracy: 0.9674 - lr: 0.0010\n",
            "Epoch 12/20\n",
            "88/88 [==============================] - 5s 56ms/step - loss: 0.1670 - accuracy: 0.9417 - val_loss: 0.1921 - val_accuracy: 0.9557 - lr: 0.0010\n",
            "Epoch 13/20\n",
            "87/88 [============================>.] - ETA: 0s - loss: 0.1775 - accuracy: 0.9396\n",
            "Epoch 13: ReduceLROnPlateau reducing learning rate to 0.00010000000474974513.\n",
            "88/88 [==============================] - 6s 67ms/step - loss: 0.1775 - accuracy: 0.9399 - val_loss: 0.1653 - val_accuracy: 0.9427 - lr: 0.0010\n",
            "Epoch 14/20\n",
            "88/88 [==============================] - 5s 61ms/step - loss: 0.1241 - accuracy: 0.9653 - val_loss: 0.1283 - val_accuracy: 0.9349 - lr: 1.0000e-04\n",
            "Epoch 15/20\n",
            "88/88 [==============================] - 6s 72ms/step - loss: 0.1166 - accuracy: 0.9578 - val_loss: 0.0934 - val_accuracy: 0.9388 - lr: 1.0000e-04\n",
            "Epoch 16/20\n",
            "88/88 [==============================] - 8s 94ms/step - loss: 0.1051 - accuracy: 0.9671 - val_loss: 0.0743 - val_accuracy: 0.9740 - lr: 1.0000e-04\n",
            "Epoch 17/20\n",
            "88/88 [==============================] - 7s 72ms/step - loss: 0.1005 - accuracy: 0.9664 - val_loss: 0.0846 - val_accuracy: 0.9753 - lr: 1.0000e-04\n",
            "Epoch 18/20\n",
            "88/88 [==============================] - ETA: 0s - loss: 0.0977 - accuracy: 0.9689\n",
            "Epoch 18: ReduceLROnPlateau reducing learning rate to 1.0000000474974514e-05.\n",
            "88/88 [==============================] - 6s 68ms/step - loss: 0.0977 - accuracy: 0.9689 - val_loss: 0.0849 - val_accuracy: 0.9479 - lr: 1.0000e-04\n",
            "Epoch 19/20\n",
            "87/88 [============================>.] - ETA: 0s - loss: 0.0903 - accuracy: 0.9689Restoring model weights from the end of the best epoch: 16.\n",
            "88/88 [==============================] - 6s 63ms/step - loss: 0.0899 - accuracy: 0.9689 - val_loss: 0.0840 - val_accuracy: 0.9466 - lr: 1.0000e-05\n",
            "Epoch 19: early stopping\n"
          ]
        }
      ]
    },
    {
      "cell_type": "code",
      "source": [
        "model.trainable = True\n",
        "\n",
        "model.compile(loss='categorical_crossentropy', optimizer=Adam(lr=0.00001), metrics=['accuracy'])\n",
        "\n",
        "last_epoch = 20\n",
        "# Fine-tune the model on your dataset\n",
        "history = model.fit(train_generator, epochs=40, validation_data=validation_set, callbacks=[early_stopping,lr_scheduler], \n",
        "                    steps_per_epoch=len(train_generator), validation_steps=len(validation_set), \n",
        "                    class_weight=None, initial_epoch=last_epoch)"
      ],
      "metadata": {
        "colab": {
          "base_uri": "https://localhost:8080/"
        },
        "id": "k0Qi2Qt0QoEy",
        "outputId": "1e768b57-62e6-4beb-8ac7-f24ffb25c1f7"
      },
      "execution_count": 18,
      "outputs": [
        {
          "output_type": "stream",
          "name": "stderr",
          "text": [
            "WARNING:absl:`lr` is deprecated in Keras optimizer, please use `learning_rate` or use the legacy optimizer, e.g.,tf.keras.optimizers.legacy.Adam.\n"
          ]
        },
        {
          "output_type": "stream",
          "name": "stdout",
          "text": [
            "Epoch 21/40\n",
            "89/89 [==============================] - 98s 220ms/step - loss: 1.2610 - accuracy: 0.5458 - val_loss: 4.0471 - val_accuracy: 0.2472 - lr: 0.0010\n",
            "Epoch 22/40\n",
            "89/89 [==============================] - 14s 155ms/step - loss: 0.4506 - accuracy: 0.8408 - val_loss: 1.8037 - val_accuracy: 0.5119 - lr: 0.0010\n",
            "Epoch 23/40\n",
            "89/89 [==============================] - 12s 139ms/step - loss: 0.2525 - accuracy: 0.9183 - val_loss: 0.8037 - val_accuracy: 0.7629 - lr: 0.0010\n",
            "Epoch 24/40\n",
            "89/89 [==============================] - 12s 135ms/step - loss: 0.2113 - accuracy: 0.9363 - val_loss: 1.0934 - val_accuracy: 0.7578 - lr: 0.0010\n",
            "Epoch 25/40\n",
            "89/89 [==============================] - 12s 138ms/step - loss: 0.1369 - accuracy: 0.9636 - val_loss: 0.0092 - val_accuracy: 1.0000 - lr: 0.0010\n",
            "Epoch 26/40\n",
            "89/89 [==============================] - 12s 133ms/step - loss: 0.1057 - accuracy: 0.9660 - val_loss: 0.1297 - val_accuracy: 0.9536 - lr: 0.0010\n",
            "Epoch 27/40\n",
            "89/89 [==============================] - ETA: 0s - loss: 0.1188 - accuracy: 0.9664\n",
            "Epoch 27: ReduceLROnPlateau reducing learning rate to 0.00010000000474974513.\n",
            "89/89 [==============================] - 12s 133ms/step - loss: 0.1188 - accuracy: 0.9664 - val_loss: 0.8415 - val_accuracy: 0.7478 - lr: 0.0010\n",
            "Epoch 28/40\n",
            "89/89 [==============================] - ETA: 0s - loss: 0.0614 - accuracy: 0.9823Restoring model weights from the end of the best epoch: 25.\n",
            "89/89 [==============================] - 12s 139ms/step - loss: 0.0614 - accuracy: 0.9823 - val_loss: 0.0122 - val_accuracy: 0.9975 - lr: 1.0000e-04\n",
            "Epoch 28: early stopping\n"
          ]
        }
      ]
    },
    {
      "cell_type": "code",
      "source": [
        "test_loss, test_acc = model.evaluate(validation_set)\n",
        "print('Test accuracy:', test_acc)"
      ],
      "metadata": {
        "_kg_hide-output": false,
        "execution": {
          "iopub.status.busy": "2023-04-28T09:23:58.129890Z",
          "iopub.status.idle": "2023-04-28T09:23:58.130257Z",
          "shell.execute_reply.started": "2023-04-28T09:23:58.130080Z",
          "shell.execute_reply": "2023-04-28T09:23:58.130097Z"
        },
        "trusted": true,
        "colab": {
          "base_uri": "https://localhost:8080/"
        },
        "id": "E7y0LzVpN-qd",
        "outputId": "0767ee5c-5849-4bf6-b791-59d6790ca3ce"
      },
      "execution_count": 19,
      "outputs": [
        {
          "output_type": "stream",
          "name": "stdout",
          "text": [
            "25/25 [==============================] - 1s 24ms/step - loss: 0.0092 - accuracy: 1.0000\n",
            "Test accuracy: 1.0\n"
          ]
        }
      ]
    },
    {
      "cell_type": "code",
      "source": [
        "model.save('/kaggle/working/my_model_emo.h5')"
      ],
      "metadata": {
        "execution": {
          "iopub.status.busy": "2023-04-28T09:23:58.133221Z",
          "iopub.status.idle": "2023-04-28T09:23:58.133642Z",
          "shell.execute_reply.started": "2023-04-28T09:23:58.133441Z",
          "shell.execute_reply": "2023-04-28T09:23:58.133459Z"
        },
        "trusted": true,
        "id": "LUgfqdU-N-qd"
      },
      "execution_count": null,
      "outputs": []
    },
    {
      "cell_type": "code",
      "source": [
        "import numpy as np\n",
        "import matplotlib.pyplot as plt\n",
        "e = ['Angry','Happy','Neutral','Sad','Surprise']\n",
        "for i in range(len(e)):\n",
        "    print(i,\"=\",e[i])\n",
        "# Get a batch of 10 random images from the test set\n",
        "test_batch = validation_set.next()\n",
        "images = test_batch[0][:10]\n",
        "true_labels = test_batch[1][:10]\n",
        "\n",
        "# Make predictions using the trained model\n",
        "pred_probs = model.predict(images)\n",
        "pred_labels = np.argmax(pred_probs, axis=1)\n",
        "\n",
        "# Plot the images with their true and predicted labels\n",
        "fig, axs = plt.subplots(2, 5, figsize=(15, 7))\n",
        "axs = axs.flatten()\n",
        "\n",
        "for i in range(len(images)):\n",
        "    # Rescale the pixel values from [0, 1] to [0, 255] and convert to integers\n",
        "    img = (images[i] * 255).astype(np.uint8)\n",
        "    # Invert the pixel values\n",
        "    img = 255 - img\n",
        "    axs[i].imshow(img)\n",
        "    axs[i].set_title(f'True: {true_labels[i]}, Pred: {pred_labels[i]}')\n",
        "    axs[i].axis('off')\n",
        "\n",
        "plt.show()\n",
        "\n"
      ],
      "metadata": {
        "execution": {
          "iopub.status.busy": "2023-04-28T09:23:58.134619Z",
          "iopub.status.idle": "2023-04-28T09:23:58.134992Z",
          "shell.execute_reply.started": "2023-04-28T09:23:58.134811Z",
          "shell.execute_reply": "2023-04-28T09:23:58.134828Z"
        },
        "trusted": true,
        "colab": {
          "base_uri": "https://localhost:8080/",
          "height": 575
        },
        "id": "D0R-IPiqN-qd",
        "outputId": "77eec48c-1103-4c29-cfdb-0c8c599530ee"
      },
      "execution_count": 20,
      "outputs": [
        {
          "output_type": "stream",
          "name": "stdout",
          "text": [
            "0 = Angry\n",
            "1 = Happy\n",
            "2 = Neutral\n",
            "3 = Sad\n",
            "4 = Surprise\n",
            "1/1 [==============================] - 3s 3s/step\n"
          ]
        },
        {
          "output_type": "display_data",
          "data": {
            "text/plain": [
              "<Figure size 1500x700 with 10 Axes>"
            ],
            "image/png": "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
